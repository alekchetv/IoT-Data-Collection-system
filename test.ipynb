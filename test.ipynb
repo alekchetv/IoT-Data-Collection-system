{
 "cells": [
  {
   "cell_type": "code",
   "execution_count": 1,
   "metadata": {},
   "outputs": [],
   "source": [
    "import json\n",
    "from sensors.schemas import SensorPinGenerator\n",
    "import codecs\n",
    "\n",
    "file = codecs.open(\"sensors.json\", \"r\", \"utf_8_sig\")\n",
    "content = file.read()\n",
    "sensor_list = json.loads(content)\n",
    "\n"
   ]
  },
  {
   "cell_type": "code",
   "execution_count": 3,
   "metadata": {},
   "outputs": [
    {
     "name": "stdout",
     "output_type": "stream",
     "text": [
      "[{'sensor_name': 'Углекислый газ', 'code': {'glob': 'int GasPin = {{pin_number}};float analogValue;', 'setup': 'pinMode(GasPin, INPUT);', 'loop': 'analogValue = analogRead(GasPin); Serial.print(\"Current value: \");Serial.println(analogValue);'}}, {'sensor_name': 'Инфракрасный', 'code': {'glob': 'int inputPin = {{pin_number}}; int val = 0;', 'setup': 'pinMode(inputPin, INPUT);', 'loop': 'val = digitalRead(inputPin); Serial.println(val);'}}, {'sensor_name': 'Температура', 'code': {'glob': '#include <DHT.h>\\n#define DHTPIN {{pin_number}}\\n#define DHTTYPE DHT11\\nDHT dht(DHTPIN, DHTTYPE);', 'setup': 'dht.begin();', 'loop': 'float t = dht.readTemperature();  String postData = \"{\"sensor_type\": \"Температура\",\"output_data\":\" + \"\"\" + String(t) + \"\"data\"}\";\\nclient.post(\"/data_records/send_data\", contentType, postData);'}}]\n"
     ]
    }
   ],
   "source": [
    "print(sensor_list)"
   ]
  }
 ],
 "metadata": {
  "kernelspec": {
   "display_name": ".venv",
   "language": "python",
   "name": "python3"
  },
  "language_info": {
   "codemirror_mode": {
    "name": "ipython",
    "version": 3
   },
   "file_extension": ".py",
   "mimetype": "text/x-python",
   "name": "python",
   "nbconvert_exporter": "python",
   "pygments_lexer": "ipython3",
   "version": "3.12.4"
  }
 },
 "nbformat": 4,
 "nbformat_minor": 2
}
